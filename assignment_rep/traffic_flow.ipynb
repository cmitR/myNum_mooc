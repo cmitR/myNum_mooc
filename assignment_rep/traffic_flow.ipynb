{
 "metadata": {
  "name": "",
  "signature": "sha256:604c7a08e1ecae1bec4c9792225d317e7e76b1e2c8b539a9e80defd7bb9c1fed"
 },
 "nbformat": 3,
 "nbformat_minor": 0,
 "worksheets": [
  {
   "cells": [
    {
     "cell_type": "heading",
     "level": 1,
     "metadata": {},
     "source": [
      "Coding assignment: traffic flow"
     ]
    },
    {
     "cell_type": "markdown",
     "metadata": {},
     "source": [
      "Consider the flow of traffic on a one-lane highway.  How can we describe the general behavior of this system?\n",
      "\n",
      "We can define the speed of traffic, V, in kilometers per hour.  We can also define a traffic density, the number of cars per unit length of highway, \u03c1, in cars per kilometer.  Finally, we can define a traffic flux, or the flow rate of cars, F in cars per hour.  \n",
      "\n",
      "Now make a few assumptions about how traffic moves.  \n",
      "\n",
      "If \u03c1 approaches 0, i.e. there are very few cars on the road, then cars will drive as fast as they can at some Vmax.  \n",
      "\n",
      "Conversely, if cars are bumper to bumper along the road, then \u03c1 approaches a $\\rho_{max}$ and V approaches 0.\n",
      "\n",
      "One possible equation to describe this behavior is\n",
      "\\begin{equation}V = V_{max}(1 - \\frac{\\rho}{\\rho_{max}})\\end{equation}\n",
      "\n",
      "If we describe the traffic flux, F as\n",
      "\n",
      "\\begin{equation} F = V\\rho\\end{equation}\n",
      "\n",
      "then\n",
      "\n",
      "\\begin{equation} F = F(\\rho)=V(\\rho)\\rho=V_{max}\\rho(1\u2212\\frac{\\rho}{\\rho_{max}})\\end{equation}\n",
      "\n",
      "Unsteady traffic flow can be modelled as the non-linear convection of car density, so we apply the non-linear convection equation with V, the wave speed, equal to ${\\partial F}$/${\\partial \\rho}$ :\n",
      "\\begin{equation}\\frac{\\partial \\rho}{\\partial t}+\\frac{\\partial F}{\\partial \\rho}\\frac{\\partial \\rho}{\\partial x}=0 \\end{equation}\n",
      "\n",
      "Applying the chain rule of calculus, this becomes\n",
      "\n",
      "\\begin{equation} \\frac{\\partial \\rho}{\\partial t}+ \\frac{\\partial F}{\\partial x}=0\n",
      "\\end{equation}\n",
      "\n",
      "where F is defined as above.  "
     ]
    },
    {
     "cell_type": "heading",
     "level": 3,
     "metadata": {},
     "source": [
      "To do:"
     ]
    },
    {
     "cell_type": "markdown",
     "metadata": {},
     "source": [
      "Discretize the traffic flow equation using forward-difference in time and backward-difference in space. \n",
      "Examine a stretch of road 11 kilometers long using the following conditions:\n",
      "\n",
      "$V_{max}$ = 80 km/hr\n",
      "\n",
      "L = 11 km\n",
      "\n",
      "$\\rho_{max}$ = 250 cars/km\n",
      "\n",
      "nx = 51\n",
      "\n",
      "$\\Delta t$ = .001 hours"
     ]
    },
    {
     "cell_type": "heading",
     "level": 4,
     "metadata": {},
     "source": [
      "Discretization of the  traffic flow equation with forward difference in time and backward-difference in space numerical scheme."
     ]
    },
    {
     "cell_type": "markdown",
     "metadata": {},
     "source": [
      "Convert the flow traffic F function into a sympy lambdify one in order to minimize tyope errors during later calculations. We need to import sympy and numpy modules. Also specify Latex as the rendering module for our output."
     ]
    },
    {
     "cell_type": "code",
     "collapsed": false,
     "input": [
      "import numpy\n",
      "import sympy\n",
      "from matplotlib import pyplot\n",
      "%matplotlib inline\n",
      "from matplotlib import rcParams\n",
      "rcParams['font.family'] = 'serif'\n",
      "rcParams['font.size'] = 16"
     ],
     "language": "python",
     "metadata": {},
     "outputs": [],
     "prompt_number": 19
    },
    {
     "cell_type": "code",
     "collapsed": false,
     "input": [
      "from sympy import init_printing\n",
      "init_printing()"
     ],
     "language": "python",
     "metadata": {},
     "outputs": [],
     "prompt_number": 20
    },
    {
     "cell_type": "code",
     "collapsed": false,
     "input": [
      "rho, rhomax, Vmax =sympy.symbols('rho rhomax Vmax')"
     ],
     "language": "python",
     "metadata": {},
     "outputs": [],
     "prompt_number": 30
    },
    {
     "cell_type": "code",
     "collapsed": false,
     "input": [
      "V = Vmax*(1-rho/rhomax)\n",
      "F = Vmax*rho*(1-rho/rhomax)"
     ],
     "language": "python",
     "metadata": {},
     "outputs": [],
     "prompt_number": 65
    },
    {
     "cell_type": "markdown",
     "metadata": {},
     "source": [
      "Now, lambdify functions V and F"
     ]
    },
    {
     "cell_type": "code",
     "collapsed": false,
     "input": [
      "from sympy.utilities.lambdify import lambdify\n",
      "\n",
      "V_lambd = lambdify((Vmax,rhomax,rho),V)\n",
      "F_lambd = lambdify((Vmax,rhomax,rho),F)"
     ],
     "language": "python",
     "metadata": {},
     "outputs": [],
     "prompt_number": 33
    },
    {
     "cell_type": "markdown",
     "metadata": {},
     "source": [
      "Let's initialize the simulation with  the values below."
     ]
    },
    {
     "cell_type": "code",
     "collapsed": false,
     "input": [
      "### Constants used for the traffic flow problem\n",
      "Vmax = 136.    # km/hr\n",
      "L = 11.       # km\n",
      "rhomax = 250. # cars/km\n",
      "nx = 51      # space discretization\n",
      "dt = .001    # hours"
     ],
     "language": "python",
     "metadata": {},
     "outputs": [],
     "prompt_number": 57
    },
    {
     "cell_type": "markdown",
     "metadata": {},
     "source": [
      "Using the following initial conditions for traffic density:"
     ]
    },
    {
     "cell_type": "code",
     "collapsed": false,
     "input": [
      "### initiating time and space variables for discretization\n",
      "x = numpy.linspace(0,L,nx)\n",
      "rho0 = numpy.ones(nx)*20\n",
      "rho0[10:20] = 50\n",
      "dx = L/(nx-1)\n",
      "nt = 100 # this is equivalent to 0.1 hours or 6 min"
     ],
     "language": "python",
     "metadata": {},
     "outputs": [],
     "prompt_number": 58
    },
    {
     "cell_type": "code",
     "collapsed": false,
     "input": [
      "### Create the array to store the solution at each timestep\n",
      "Rho = numpy.zeros((nt,nx),dtype=float)\n",
      "\n",
      "# and initial car density rho\n",
      "rho = rho0.copy()"
     ],
     "language": "python",
     "metadata": {},
     "outputs": [],
     "prompt_number": 59
    },
    {
     "cell_type": "code",
     "collapsed": false,
     "input": [
      "### Now run the simulation (conservative form) for the number of timesteps required\n",
      "for i in range(nt):\n",
      "    \n",
      "    rho_n = rho.copy()\n",
      "    F = numpy.asarray([F_lambd(Vmax,rhomax,r) for r in rho_n])\n",
      "    shape(F)\n",
      "    rho[1:-1] = rho_n[1:-1] - (F[1:-1]-F[:-2])*dt/dx\n",
      "    \n",
      "    Rho[i] = rho.copy()"
     ],
     "language": "python",
     "metadata": {},
     "outputs": [],
     "prompt_number": 60
    },
    {
     "cell_type": "code",
     "collapsed": false,
     "input": [
      "### Create the array holding the velocity solution at each timestep as a function of rho\n",
      "V = numpy.asarray([V_lambd(Vmax,rhomax,rho) for  rho in Rho])"
     ],
     "language": "python",
     "metadata": {},
     "outputs": [],
     "prompt_number": 61
    },
    {
     "cell_type": "code",
     "collapsed": false,
     "input": [
      "numpy.min(V[50])*1000/3600"
     ],
     "language": "python",
     "metadata": {},
     "outputs": [
      {
       "latex": [
        "$$30.988747028$$"
       ],
       "metadata": {},
       "output_type": "pyout",
       "png": "[encoded data removed]",
       "prompt_number": 64,
       "text": [
        "30.988747028"
       ]
      }
     ],
     "prompt_number": 64
    }
   ],
   "metadata": {}
  }
 ]
}